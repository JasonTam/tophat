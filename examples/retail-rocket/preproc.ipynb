{
 "cells": [
  {
   "cell_type": "code",
   "execution_count": 1,
   "metadata": {},
   "outputs": [],
   "source": [
    "import numpy as np\n",
    "import pandas as pd\n",
    "import treelib\n",
    "from pathlib import Path\n",
    "from treelib import Node, Tree\n",
    "\n",
    "DATA_DIR = Path('../../data/retail-rocket')\n",
    "EXPORT_DIR = Path('../../data/retail-rocket') / 'saved'\n",
    "\n",
    "PATH_CATEGORY_TREE = DATA_DIR / 'category_tree.csv'\n",
    "PATH_EVENTS = DATA_DIR /'events.csv'\n",
    "PATH_ITEM_PROPS1 = DATA_DIR / 'item_properties_part1.csv'\n",
    "PATH_ITEM_PROPS2 = DATA_DIR / 'item_properties_part2.csv'"
   ]
  },
  {
   "cell_type": "markdown",
   "metadata": {},
   "source": [
    "# Creating Category Features via Tree\n",
    "\n",
    "The category tree provided is given as a table of edges. We want to be able to get all the levels given a leaf node."
   ]
  },
  {
   "cell_type": "code",
   "execution_count": 2,
   "metadata": {},
   "outputs": [],
   "source": [
    "cat_tree_df = pd.read_csv(PATH_CATEGORY_TREE)"
   ]
  },
  {
   "cell_type": "code",
   "execution_count": 3,
   "metadata": {},
   "outputs": [
    {
     "data": {
      "text/html": [
       "<div>\n",
       "<style scoped>\n",
       "    .dataframe tbody tr th:only-of-type {\n",
       "        vertical-align: middle;\n",
       "    }\n",
       "\n",
       "    .dataframe tbody tr th {\n",
       "        vertical-align: top;\n",
       "    }\n",
       "\n",
       "    .dataframe thead th {\n",
       "        text-align: right;\n",
       "    }\n",
       "</style>\n",
       "<table border=\"1\" class=\"dataframe\">\n",
       "  <thead>\n",
       "    <tr style=\"text-align: right;\">\n",
       "      <th></th>\n",
       "      <th>categoryid</th>\n",
       "      <th>parentid</th>\n",
       "    </tr>\n",
       "  </thead>\n",
       "  <tbody>\n",
       "    <tr>\n",
       "      <th>0</th>\n",
       "      <td>1016</td>\n",
       "      <td>213.0</td>\n",
       "    </tr>\n",
       "    <tr>\n",
       "      <th>1</th>\n",
       "      <td>809</td>\n",
       "      <td>169.0</td>\n",
       "    </tr>\n",
       "    <tr>\n",
       "      <th>2</th>\n",
       "      <td>570</td>\n",
       "      <td>9.0</td>\n",
       "    </tr>\n",
       "    <tr>\n",
       "      <th>3</th>\n",
       "      <td>1691</td>\n",
       "      <td>885.0</td>\n",
       "    </tr>\n",
       "    <tr>\n",
       "      <th>4</th>\n",
       "      <td>536</td>\n",
       "      <td>1691.0</td>\n",
       "    </tr>\n",
       "  </tbody>\n",
       "</table>\n",
       "</div>"
      ],
      "text/plain": [
       "   categoryid  parentid\n",
       "0        1016     213.0\n",
       "1         809     169.0\n",
       "2         570       9.0\n",
       "3        1691     885.0\n",
       "4         536    1691.0"
      ]
     },
     "execution_count": 3,
     "metadata": {},
     "output_type": "execute_result"
    }
   ],
   "source": [
    "cat_tree_df.head()"
   ]
  },
  {
   "cell_type": "code",
   "execution_count": 4,
   "metadata": {},
   "outputs": [],
   "source": [
    "tree = Tree()\n",
    "ROOT = 'cat_tree'\n",
    "tree.create_node(identifier=ROOT)\n",
    "tree.create_node(identifier=-1, parent=ROOT) # temp\n",
    "for _, row in cat_tree_df.iterrows():\n",
    "    categoryid, parentid = row\n",
    "    if np.isnan(parentid):\n",
    "        parentid = ROOT\n",
    "    else:\n",
    "        parentid = int(parentid)\n",
    "    categoryid = int(categoryid)\n",
    "    \n",
    "    if not tree.contains(parentid):\n",
    "        tree.create_node(identifier=parentid, parent=-1)\n",
    "        \n",
    "    if not tree.contains(categoryid):\n",
    "        tree.create_node(identifier=categoryid, parent=parentid)\n",
    "    else:\n",
    "        if tree.get_node(categoryid).bpointer == -1:\n",
    "            tree.move_node(categoryid, parentid)\n",
    "tree.link_past_node(-1)"
   ]
  },
  {
   "cell_type": "code",
   "execution_count": 5,
   "metadata": {},
   "outputs": [],
   "source": [
    "# Print the tree structure\n",
    "# tree.show(line_type='ascii-em')"
   ]
  },
  {
   "cell_type": "markdown",
   "metadata": {},
   "source": [
    "# Item Properties\n",
    "\n",
    "We are provided with a bunch of item properties that can possibly change over time. But we will only be working with `categoryid` (and the latest record of it)."
   ]
  },
  {
   "cell_type": "code",
   "execution_count": 6,
   "metadata": {},
   "outputs": [],
   "source": [
    "item_props_df = pd.concat([\n",
    "    pd.read_csv(PATH_ITEM_PROPS1, usecols=['itemid', 'property', 'value']),\n",
    "    pd.read_csv(PATH_ITEM_PROPS2, usecols=['itemid', 'property', 'value']),\n",
    "])"
   ]
  },
  {
   "cell_type": "code",
   "execution_count": 7,
   "metadata": {},
   "outputs": [],
   "source": [
    "item_props_df = item_props_df.loc[item_props_df['property']=='categoryid']\\\n",
    "    .drop_duplicates().drop('property', axis=1).set_index('itemid')\n",
    "item_props_df.columns = ['categoryid']\n",
    "item_props_df['categoryid'] = item_props_df['categoryid'].astype(np.uint16)"
   ]
  },
  {
   "cell_type": "code",
   "execution_count": 8,
   "metadata": {},
   "outputs": [],
   "source": [
    "# Could memoize if we wanted, meh\n",
    "def get_cats(categoryid):\n",
    "    try:\n",
    "        return list(tree.rsearch(categoryid))[::-1][1:]\n",
    "    except treelib.exceptions.NodeIDAbsentError:\n",
    "        return []"
   ]
  },
  {
   "cell_type": "code",
   "execution_count": 9,
   "metadata": {},
   "outputs": [],
   "source": [
    "item_categories_df = pd.DataFrame(item_props_df['categoryid'].map(get_cats).tolist())\n",
    "item_categories_df.columns = [f'categoryid_lvl{i}' for i in range(6)]\n",
    "item_categories_df.index = item_props_df.index\n",
    "item_categories_df.reset_index(inplace=True)"
   ]
  },
  {
   "cell_type": "code",
   "execution_count": 10,
   "metadata": {},
   "outputs": [],
   "source": [
    "# lvl3-5 are mostly NaN, probably want to chop them off\n",
    "item_categories_df.to_msgpack(EXPORT_DIR / 'item_categories.msg')"
   ]
  },
  {
   "cell_type": "code",
   "execution_count": 11,
   "metadata": {},
   "outputs": [
    {
     "data": {
      "text/html": [
       "<div>\n",
       "<style scoped>\n",
       "    .dataframe tbody tr th:only-of-type {\n",
       "        vertical-align: middle;\n",
       "    }\n",
       "\n",
       "    .dataframe tbody tr th {\n",
       "        vertical-align: top;\n",
       "    }\n",
       "\n",
       "    .dataframe thead th {\n",
       "        text-align: right;\n",
       "    }\n",
       "</style>\n",
       "<table border=\"1\" class=\"dataframe\">\n",
       "  <thead>\n",
       "    <tr style=\"text-align: right;\">\n",
       "      <th></th>\n",
       "      <th>itemid</th>\n",
       "      <th>categoryid_lvl0</th>\n",
       "      <th>categoryid_lvl1</th>\n",
       "      <th>categoryid_lvl2</th>\n",
       "      <th>categoryid_lvl3</th>\n",
       "      <th>categoryid_lvl4</th>\n",
       "      <th>categoryid_lvl5</th>\n",
       "    </tr>\n",
       "  </thead>\n",
       "  <tbody>\n",
       "    <tr>\n",
       "      <th>0</th>\n",
       "      <td>460429</td>\n",
       "      <td>395.0</td>\n",
       "      <td>1278.0</td>\n",
       "      <td>1338.0</td>\n",
       "      <td>NaN</td>\n",
       "      <td>NaN</td>\n",
       "      <td>NaN</td>\n",
       "    </tr>\n",
       "    <tr>\n",
       "      <th>1</th>\n",
       "      <td>281245</td>\n",
       "      <td>653.0</td>\n",
       "      <td>312.0</td>\n",
       "      <td>1277.0</td>\n",
       "      <td>NaN</td>\n",
       "      <td>NaN</td>\n",
       "      <td>NaN</td>\n",
       "    </tr>\n",
       "    <tr>\n",
       "      <th>2</th>\n",
       "      <td>35575</td>\n",
       "      <td>378.0</td>\n",
       "      <td>1696.0</td>\n",
       "      <td>1059.0</td>\n",
       "      <td>NaN</td>\n",
       "      <td>NaN</td>\n",
       "      <td>NaN</td>\n",
       "    </tr>\n",
       "    <tr>\n",
       "      <th>3</th>\n",
       "      <td>8313</td>\n",
       "      <td>250.0</td>\n",
       "      <td>1027.0</td>\n",
       "      <td>1147.0</td>\n",
       "      <td>NaN</td>\n",
       "      <td>NaN</td>\n",
       "      <td>NaN</td>\n",
       "    </tr>\n",
       "    <tr>\n",
       "      <th>4</th>\n",
       "      <td>55102</td>\n",
       "      <td>1482.0</td>\n",
       "      <td>381.0</td>\n",
       "      <td>47.0</td>\n",
       "      <td>NaN</td>\n",
       "      <td>NaN</td>\n",
       "      <td>NaN</td>\n",
       "    </tr>\n",
       "  </tbody>\n",
       "</table>\n",
       "</div>"
      ],
      "text/plain": [
       "   itemid  categoryid_lvl0  categoryid_lvl1  categoryid_lvl2  categoryid_lvl3  \\\n",
       "0  460429            395.0           1278.0           1338.0              NaN   \n",
       "1  281245            653.0            312.0           1277.0              NaN   \n",
       "2   35575            378.0           1696.0           1059.0              NaN   \n",
       "3    8313            250.0           1027.0           1147.0              NaN   \n",
       "4   55102           1482.0            381.0             47.0              NaN   \n",
       "\n",
       "   categoryid_lvl4  categoryid_lvl5  \n",
       "0              NaN              NaN  \n",
       "1              NaN              NaN  \n",
       "2              NaN              NaN  \n",
       "3              NaN              NaN  \n",
       "4              NaN              NaN  "
      ]
     },
     "execution_count": 11,
     "metadata": {},
     "output_type": "execute_result"
    }
   ],
   "source": [
    "item_categories_df.head()"
   ]
  },
  {
   "cell_type": "markdown",
   "metadata": {},
   "source": [
    "# Events\n",
    "\n",
    "Pre-split our event facts."
   ]
  },
  {
   "cell_type": "code",
   "execution_count": 12,
   "metadata": {},
   "outputs": [],
   "source": [
    "HOLDOUT_DATE = '2015-09-01'"
   ]
  },
  {
   "cell_type": "code",
   "execution_count": 13,
   "metadata": {},
   "outputs": [],
   "source": [
    "events_df = pd.read_csv(PATH_EVENTS, usecols=['timestamp', 'visitorid', 'event', 'itemid'])\n",
    "events_df['timestamp'] = pd.to_datetime(events_df['timestamp'], unit='ms')"
   ]
  },
  {
   "cell_type": "code",
   "execution_count": 14,
   "metadata": {},
   "outputs": [],
   "source": [
    "events_df.to_msgpack(EXPORT_DIR / 'events.msg')"
   ]
  },
  {
   "cell_type": "code",
   "execution_count": 15,
   "metadata": {},
   "outputs": [],
   "source": [
    "events_df.loc[events_df['timestamp'] < HOLDOUT_DATE].to_msgpack(EXPORT_DIR / 'events_tsplit.msg')\n",
    "events_df.loc[events_df['timestamp'] >= HOLDOUT_DATE].to_msgpack(EXPORT_DIR / 'events_vsplit.msg')"
   ]
  }
 ],
 "metadata": {
  "kernelspec": {
   "display_name": "Python 3",
   "language": "python",
   "name": "python3"
  },
  "language_info": {
   "codemirror_mode": {
    "name": "ipython",
    "version": 3
   },
   "file_extension": ".py",
   "mimetype": "text/x-python",
   "name": "python",
   "nbconvert_exporter": "python",
   "pygments_lexer": "ipython3",
   "version": "3.6.2"
  }
 },
 "nbformat": 4,
 "nbformat_minor": 2
}
