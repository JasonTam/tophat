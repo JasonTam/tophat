{
 "cells": [
  {
   "cell_type": "code",
   "execution_count": 1,
   "metadata": {},
   "outputs": [],
   "source": [
    "import tensorflow as tf\n",
    "import pandas as pd\n",
    "from collections import defaultdict\n",
    "from pathlib import Path\n",
    "\n",
    "import tophat.callbacks as cbks\n",
    "from tophat.data import FeatureSource, InteractionsSource\n",
    "from tophat.constants import FType, FGroup\n",
    "from tophat.tasks.wrapper import FactorizationTaskWrapper\n",
    "from tophat.core import TophatModel\n",
    "from tophat.evaluation import Validator\n",
    "\n",
    "DATA_DIR = Path('../../data/retail-rocket') / 'saved'\n",
    "LOG_DIR = '/dev/null'\n",
    "\n",
    "EMB_DIM = 30\n",
    "BATCH_SIZE = 128\n",
    "N_EPOCHS = 20"
   ]
  },
  {
   "cell_type": "markdown",
   "metadata": {},
   "source": [
    "# Interactions"
   ]
  },
  {
   "cell_type": "code",
   "execution_count": 2,
   "metadata": {},
   "outputs": [],
   "source": [
    "events_tsplit = InteractionsSource(\n",
    "    path=DATA_DIR/'events_tsplit.msg',\n",
    "    user_col='visitorid',\n",
    "    item_col='itemid',\n",
    "    activity_col='event',\n",
    "    activity_filter_set={'addtocart', 'transaction'},\n",
    "    load_fn=pd.read_msgpack,\n",
    "    name='events_tsplit',\n",
    ")\n",
    "\n",
    "events_vsplit = InteractionsSource(\n",
    "    path=DATA_DIR/'events_vsplit.msg',\n",
    "    user_col='visitorid',\n",
    "    item_col='itemid',\n",
    "    activity_col='event',\n",
    "    activity_filter_set={'transaction'},\n",
    "    load_fn=pd.read_msgpack,\n",
    "    name='events_vsplit',\n",
    ")"
   ]
  },
  {
   "cell_type": "markdown",
   "metadata": {},
   "source": [
    "# Content Features"
   ]
  },
  {
   "cell_type": "code",
   "execution_count": 3,
   "metadata": {},
   "outputs": [],
   "source": [
    "taxon_feats = FeatureSource(\n",
    "    name='taxonomy',\n",
    "    path=DATA_DIR/'item_categories.msg',\n",
    "    feature_type=FType.CAT,\n",
    "    index_col='itemid',\n",
    "    concat_cols=[('categoryid_lvl2', 'categoryid_lvl3')],\n",
    "    drop_cols=['categoryid_lvl3', 'categoryid_lvl4', 'categoryid_lvl5'],\n",
    "    load_fn=pd.read_msgpack,\n",
    ")"
   ]
  },
  {
   "cell_type": "code",
   "execution_count": 4,
   "metadata": {},
   "outputs": [],
   "source": [
    "features = {\n",
    "    'user': [],\n",
    "    'item': [taxon_feats],\n",
    "}"
   ]
  },
  {
   "cell_type": "markdown",
   "metadata": {},
   "source": [
    "# Tasks\n",
    "We will create 2 independent tasks. One trained using BPR and another using WARP. Because we want each to have their own set of learned embeddings, we encapsulate in a `tf.variable_scope`"
   ]
  },
  {
   "cell_type": "markdown",
   "metadata": {},
   "source": [
    "## BPR"
   ]
  },
  {
   "cell_type": "code",
   "execution_count": 5,
   "metadata": {},
   "outputs": [
    {
     "name": "stderr",
     "output_type": "stream",
     "text": [
      "INFO:root:Filtering on event in {'transaction', 'addtocart'}\n",
      "/home/jason/Documents/gilt/tophat/tophat/data.py:485: SettingWithCopyWarning: \n",
      "A value is trying to be set on a copy of a slice from a DataFrame.\n",
      "Try using .loc[row_indexer,col_indexer] = value instead\n",
      "\n",
      "See the caveats in the documentation: http://pandas.pydata.org/pandas-docs/stable/indexing.html#indexing-view-versus-copy\n",
      "  CategoricalDtype(existing_fgroup_cats))\n",
      "INFO:root:interactions_df shape:\t(77248,4)\n",
      "INFO:root:user features shape:\t(32690,1)\n",
      "INFO:root:item_features shape:\t(21093,5)\n"
     ]
    },
    {
     "name": "stdout",
     "output_type": "stream",
     "text": [
      "INFO:tensorflow:Scale of 0 disables regularizer.\n"
     ]
    },
    {
     "name": "stderr",
     "output_type": "stream",
     "text": [
      "INFO:tensorflow:Scale of 0 disables regularizer.\n"
     ]
    },
    {
     "name": "stdout",
     "output_type": "stream",
     "text": [
      "INFO:tensorflow:Scale of 0 disables regularizer.\n"
     ]
    },
    {
     "name": "stderr",
     "output_type": "stream",
     "text": [
      "INFO:tensorflow:Scale of 0 disables regularizer.\n"
     ]
    }
   ],
   "source": [
    "with tf.variable_scope(\"bpr\"):\n",
    "    task_bpr = FactorizationTaskWrapper(\n",
    "        loss_fn='bpr',\n",
    "        sample_method='uniform_verified',\n",
    "        interactions=events_tsplit,\n",
    "        group_features=features,\n",
    "        embedding_map_kwargs={'embedding_dim': EMB_DIM},\n",
    "        batch_size=BATCH_SIZE,\n",
    "        name='bpr',\n",
    "    )\n"
   ]
  },
  {
   "cell_type": "markdown",
   "metadata": {},
   "source": [
    "### Validators"
   ]
  },
  {
   "cell_type": "code",
   "execution_count": 6,
   "metadata": {},
   "outputs": [
    {
     "name": "stderr",
     "output_type": "stream",
     "text": [
      "INFO:root:Filtering on event in {'transaction'}\n",
      "INFO:root:warm interactions_df shape:\t(381,4)\n",
      "INFO:root:Evaluating on 21093 items\n",
      "INFO:root:Already loaded\n",
      "INFO:root:Already loaded\n",
      "/home/jason/Documents/gilt/tophat/tophat/data.py:485: SettingWithCopyWarning: \n",
      "A value is trying to be set on a copy of a slice from a DataFrame.\n",
      "Try using .loc[row_indexer,col_indexer] = value instead\n",
      "\n",
      "See the caveats in the documentation: http://pandas.pydata.org/pandas-docs/stable/indexing.html#indexing-view-versus-copy\n",
      "  CategoricalDtype(existing_fgroup_cats))\n",
      "INFO:root:interactions_df shape:\t(2218,4)\n",
      "INFO:root:user features shape:\t(1213,1)\n",
      "INFO:root:item_features shape:\t(1703,5)\n",
      "INFO:root:Evaluating on 21666 items\n"
     ]
    }
   ],
   "source": [
    "primary_validator = Validator(\n",
    "    events_vsplit,\n",
    "    parent_task_wrapper=task_bpr,\n",
    "    limit_items=-1,\n",
    "    n_users_eval=-1,\n",
    "    include_cold=False,\n",
    "    cold_only=False,\n",
    "    name='userXitem',\n",
    ")\n",
    "\n",
    "cold_validator = Validator(\n",
    "    events_vsplit,\n",
    "    parent_task_wrapper=task_bpr,\n",
    "    limit_items=-1,\n",
    "    n_users_eval=-1,\n",
    "    include_cold=True,\n",
    "    cold_only=True,\n",
    "    features_srcs=features,\n",
    "    specific_feature=defaultdict(lambda: True),\n",
    "    name='userXcolditem',\n",
    ")\n"
   ]
  },
  {
   "cell_type": "markdown",
   "metadata": {},
   "source": [
    "### Callbacks"
   ]
  },
  {
   "cell_type": "code",
   "execution_count": 7,
   "metadata": {},
   "outputs": [],
   "source": [
    "\n",
    "summary_cb = cbks.Summary(log_dir=LOG_DIR)\n",
    "val_cb = cbks.Scorer(primary_validator,\n",
    "                     summary_writer=summary_cb.summary_writer,\n",
    "                     freq=5,)\n",
    "cold_val_cb = cbks.Scorer(cold_validator,\n",
    "                          summary_writer=summary_cb.summary_writer,\n",
    "                          freq=5,)\n",
    "callbacks = [\n",
    "    summary_cb,\n",
    "    val_cb,\n",
    "    cold_val_cb,\n",
    "]\n"
   ]
  },
  {
   "cell_type": "code",
   "execution_count": 8,
   "metadata": {},
   "outputs": [
    {
     "name": "stderr",
     "output_type": "stream",
     "text": [
      "INFO:root:Scoring (userXitem):\n",
      "100%|██████████| 50/50 [00:01<00:00, 34.95it/s]\n",
      "INFO:root:(val)mapk = 0.01014627213835372 +/- 0.014307241400840342\n",
      "INFO:root:(val)auc = 0.8000749945640564 +/- 0.06346800178289413\n",
      "INFO:root:(val)tjurs = 0.07188010960817337 +/- 0.030427850782871246\n",
      "INFO:root:(val)pm = 4.725895881652832 +/- 0.500525712966919\n",
      "INFO:root:(val)nm = -0.00023694461560808122 +/- 0.08295296877622604\n",
      "INFO:root:Scoring (userXcolditem):\n",
      "100%|██████████| 68/68 [00:02<00:00, 28.69it/s]\n",
      "INFO:root:(val)mapk = 0.0 +/- 0.0\n",
      "INFO:root:(val)auc = 0.6301641464233398 +/- 0.05847698822617531\n",
      "INFO:root:(val)tjurs = 0.32978567481040955 +/- 0.07504571974277496\n",
      "INFO:root:(val)pm = 1.350817084312439 +/- 0.5178150534629822\n",
      "INFO:root:(val)nm = 0.004955396056175232 +/- 0.0663822740316391\n",
      "INFO:root:Scoring (userXitem):\n",
      "100%|██████████| 50/50 [00:01<00:00, 43.34it/s]\n",
      "INFO:root:(val)mapk = 0.0314435511944133 +/- 0.01886909172195286\n",
      "INFO:root:(val)auc = 0.8069820404052734 +/- 0.0601748451590538\n",
      "INFO:root:(val)tjurs = 0.0720268115401268 +/- 0.028957201167941093\n",
      "INFO:root:(val)pm = 5.793653964996338 +/- 0.4149014353752136\n",
      "INFO:root:(val)nm = -0.12521488964557648 +/- 0.12769317626953125\n",
      "INFO:root:Scoring (userXcolditem):\n",
      "100%|██████████| 68/68 [00:02<00:00, 32.15it/s]\n",
      "INFO:root:(val)mapk = 0.006450856232440209 +/- 0.0037335626580662653\n",
      "INFO:root:(val)auc = 0.6403902769088745 +/- 0.0682903453707695\n",
      "INFO:root:(val)tjurs = 0.2908249795436859 +/- 0.08439495414495468\n",
      "INFO:root:(val)pm = 1.9805521965026855 +/- 0.6965962052345276\n",
      "INFO:root:(val)nm = -0.12478584051132202 +/- 0.0686260536313057\n",
      "INFO:root:Scoring (userXitem):\n",
      "100%|██████████| 50/50 [00:01<00:00, 42.98it/s]\n",
      "INFO:root:(val)mapk = 0.05325307042405966 +/- 0.02734358926636923\n",
      "INFO:root:(val)auc = 0.814017653465271 +/- 0.054010242223739624\n",
      "INFO:root:(val)tjurs = 0.06945335865020752 +/- 0.028485815972089767\n",
      "INFO:root:(val)pm = 6.490861415863037 +/- 0.4933525323867798\n",
      "INFO:root:(val)nm = -0.13923394680023193 +/- 0.11237110942602158\n",
      "INFO:root:Scoring (userXcolditem):\n",
      "100%|██████████| 68/68 [00:02<00:00, 32.03it/s]\n",
      "INFO:root:(val)mapk = 0.008564930798121153 +/- 0.004820773343503189\n",
      "INFO:root:(val)auc = 0.6511406898498535 +/- 0.07102304697036743\n",
      "INFO:root:(val)tjurs = 0.27616041898727417 +/- 0.08074337989091873\n",
      "INFO:root:(val)pm = 2.26855206489563 +/- 0.6153039932250977\n",
      "INFO:root:(val)nm = -0.1729680299758911 +/- 0.06877920776605606\n",
      "INFO:root:Scoring (userXitem):\n",
      "100%|██████████| 50/50 [00:01<00:00, 40.82it/s]\n",
      "INFO:root:(val)mapk = 0.048718701985878285 +/- 0.025974627804112367\n",
      "INFO:root:(val)auc = 0.8340247273445129 +/- 0.05054684728384018\n",
      "INFO:root:(val)tjurs = 0.05365834757685661 +/- 0.029415074735879898\n",
      "INFO:root:(val)pm = 7.12416934967041 +/- 0.4857211410999298\n",
      "INFO:root:(val)nm = -0.1262364387512207 +/- 0.12079980969429016\n",
      "INFO:root:Scoring (userXcolditem):\n",
      "100%|██████████| 68/68 [00:02<00:00, 31.85it/s]\n",
      "INFO:root:(val)mapk = 0.011754148069208796 +/- 0.00657891646470137\n",
      "INFO:root:(val)auc = 0.6440282464027405 +/- 0.07449408620595932\n",
      "INFO:root:(val)tjurs = 0.2817237079143524 +/- 0.07787739485502243\n",
      "INFO:root:(val)pm = 2.508028268814087 +/- 0.6561225652694702\n",
      "INFO:root:(val)nm = -0.18436235189437866 +/- 0.06751726567745209\n"
     ]
    }
   ],
   "source": [
    "model_bpr = TophatModel(tasks=[task_bpr])\n",
    "model_bpr.fit(N_EPOCHS, callbacks=callbacks, verbose=0)\n",
    "score_hist_bpr = pd.DataFrame(val_cb.score_hists)"
   ]
  },
  {
   "cell_type": "markdown",
   "metadata": {},
   "source": [
    "# WARP\n",
    "Again, we encapsulate in `tf.variable_scope` so we don't collide with the bpr embeddings."
   ]
  },
  {
   "cell_type": "code",
   "execution_count": 9,
   "metadata": {},
   "outputs": [
    {
     "name": "stderr",
     "output_type": "stream",
     "text": [
      "INFO:root:Already loaded\n",
      "INFO:root:Already loaded\n",
      "/home/jason/Documents/gilt/tophat/tophat/data.py:485: SettingWithCopyWarning: \n",
      "A value is trying to be set on a copy of a slice from a DataFrame.\n",
      "Try using .loc[row_indexer,col_indexer] = value instead\n",
      "\n",
      "See the caveats in the documentation: http://pandas.pydata.org/pandas-docs/stable/indexing.html#indexing-view-versus-copy\n",
      "  CategoricalDtype(existing_fgroup_cats))\n",
      "INFO:root:interactions_df shape:\t(77248,4)\n",
      "INFO:root:user features shape:\t(32690,1)\n",
      "INFO:root:item_features shape:\t(21093,5)\n"
     ]
    },
    {
     "name": "stdout",
     "output_type": "stream",
     "text": [
      "INFO:tensorflow:Scale of 0 disables regularizer.\n"
     ]
    },
    {
     "name": "stderr",
     "output_type": "stream",
     "text": [
      "INFO:tensorflow:Scale of 0 disables regularizer.\n"
     ]
    },
    {
     "name": "stdout",
     "output_type": "stream",
     "text": [
      "INFO:tensorflow:Scale of 0 disables regularizer.\n"
     ]
    },
    {
     "name": "stderr",
     "output_type": "stream",
     "text": [
      "INFO:tensorflow:Scale of 0 disables regularizer.\n"
     ]
    }
   ],
   "source": [
    "with tf.variable_scope(\"warp\"):\n",
    "    task_warp = FactorizationTaskWrapper(\n",
    "        loss_fn='kos',\n",
    "        sample_method='adaptive_warp',\n",
    "        interactions=events_tsplit,\n",
    "        group_features=features,\n",
    "        embedding_map_kwargs={'embedding_dim': EMB_DIM},\n",
    "        batch_size=BATCH_SIZE,\n",
    "        name='warp',\n",
    "    )\n"
   ]
  },
  {
   "cell_type": "markdown",
   "metadata": {},
   "source": [
    "### Validators - WARP"
   ]
  },
  {
   "cell_type": "code",
   "execution_count": 10,
   "metadata": {},
   "outputs": [
    {
     "name": "stderr",
     "output_type": "stream",
     "text": [
      "INFO:root:Already loaded\n",
      "INFO:root:warm interactions_df shape:\t(381,4)\n",
      "INFO:root:Evaluating on 21093 items\n",
      "INFO:root:Already loaded\n",
      "INFO:root:Already loaded\n",
      "/home/jason/Documents/gilt/tophat/tophat/data.py:485: SettingWithCopyWarning: \n",
      "A value is trying to be set on a copy of a slice from a DataFrame.\n",
      "Try using .loc[row_indexer,col_indexer] = value instead\n",
      "\n",
      "See the caveats in the documentation: http://pandas.pydata.org/pandas-docs/stable/indexing.html#indexing-view-versus-copy\n",
      "  CategoricalDtype(existing_fgroup_cats))\n",
      "INFO:root:interactions_df shape:\t(2218,4)\n",
      "INFO:root:user features shape:\t(1213,1)\n",
      "INFO:root:item_features shape:\t(1703,5)\n",
      "INFO:root:Evaluating on 21666 items\n"
     ]
    }
   ],
   "source": [
    "primary_validator = Validator(\n",
    "    events_vsplit,\n",
    "    parent_task_wrapper=task_warp,\n",
    "    limit_items=-1,\n",
    "    n_users_eval=-1,\n",
    "    include_cold=False,\n",
    "    cold_only=False,\n",
    "    name='userXitem',\n",
    ")\n",
    "\n",
    "cold_validator = Validator(\n",
    "    events_vsplit,\n",
    "    parent_task_wrapper=task_warp,\n",
    "    limit_items=-1,\n",
    "    n_users_eval=-1,\n",
    "    include_cold=True,\n",
    "    cold_only=True,\n",
    "    features_srcs=features,\n",
    "    specific_feature=defaultdict(lambda: True),\n",
    "    name='userXcolditem',\n",
    ")\n"
   ]
  },
  {
   "cell_type": "markdown",
   "metadata": {},
   "source": [
    "### Callbacks - WARP"
   ]
  },
  {
   "cell_type": "code",
   "execution_count": 11,
   "metadata": {},
   "outputs": [],
   "source": [
    "summary_cb = cbks.Summary(log_dir=LOG_DIR)\n",
    "val_cb = cbks.Scorer(primary_validator,\n",
    "                     summary_writer=summary_cb.summary_writer,\n",
    "                     freq=5,)\n",
    "cold_val_cb = cbks.Scorer(cold_validator,\n",
    "                          summary_writer=summary_cb.summary_writer,\n",
    "                          freq=5,)\n",
    "callbacks = [\n",
    "    summary_cb,\n",
    "    val_cb,\n",
    "    cold_val_cb,\n",
    "]"
   ]
  },
  {
   "cell_type": "code",
   "execution_count": 12,
   "metadata": {},
   "outputs": [
    {
     "name": "stderr",
     "output_type": "stream",
     "text": [
      "INFO:root:Scoring (userXitem):\n",
      "100%|██████████| 50/50 [00:01<00:00, 34.37it/s]\n",
      "INFO:root:(val)mapk = 0.06480414394379079 +/- 0.028669130089191825\n",
      "INFO:root:(val)auc = 0.8409512042999268 +/- 0.05230003595352173\n",
      "INFO:root:(val)tjurs = 0.1576167792081833 +/- 0.027170870453119278\n",
      "INFO:root:(val)pm = 2.129396677017212 +/- 0.1612854301929474\n",
      "INFO:root:(val)nm = -0.07475711405277252 +/- 0.022180631756782532\n",
      "INFO:root:Scoring (userXcolditem):\n",
      "100%|██████████| 68/68 [00:02<00:00, 29.75it/s]\n",
      "INFO:root:(val)mapk = 0.0010069442392264991 +/- 0.0014847102808881586\n",
      "INFO:root:(val)auc = 0.6531161069869995 +/- 0.051502589136362076\n",
      "INFO:root:(val)tjurs = 0.3437824249267578 +/- 0.054778192192316055\n",
      "INFO:root:(val)pm = 0.740329384803772 +/- 0.24799583852291107\n",
      "INFO:root:(val)nm = -0.09676805138587952 +/- 0.033008329570293427\n",
      "INFO:root:Scoring (userXitem):\n",
      "100%|██████████| 50/50 [00:01<00:00, 37.74it/s]\n",
      "INFO:root:(val)mapk = 0.10291136709799278 +/- 0.05239266177958909\n",
      "INFO:root:(val)auc = 0.8429570198059082 +/- 0.040740665048360825\n",
      "INFO:root:(val)tjurs = 0.1577448546886444 +/- 0.026757651939988136\n",
      "INFO:root:(val)pm = 2.4001729488372803 +/- 0.21542668342590332\n",
      "INFO:root:(val)nm = -0.08391121029853821 +/- 0.029067665338516235\n",
      "INFO:root:Scoring (userXcolditem):\n",
      "100%|██████████| 68/68 [00:02<00:00, 31.77it/s]\n",
      "INFO:root:(val)mapk = 0.00971512089665362 +/- 0.005479624917512898\n",
      "INFO:root:(val)auc = 0.6635156273841858 +/- 0.06085502728819847\n",
      "INFO:root:(val)tjurs = 0.32809916138648987 +/- 0.06094206124544144\n",
      "INFO:root:(val)pm = 0.9157923460006714 +/- 0.3059573769569397\n",
      "INFO:root:(val)nm = -0.11520782858133316 +/- 0.05678759142756462\n",
      "INFO:root:Scoring (userXitem):\n",
      "100%|██████████| 50/50 [00:01<00:00, 39.16it/s]\n",
      "INFO:root:(val)mapk = 0.10785770461278206 +/- 0.059343094814284986\n",
      "INFO:root:(val)auc = 0.8324555158615112 +/- 0.035609181970357895\n",
      "INFO:root:(val)tjurs = 0.15788818895816803 +/- 0.020357424393296242\n",
      "INFO:root:(val)pm = 2.5204031467437744 +/- 0.21618306636810303\n",
      "INFO:root:(val)nm = -0.04620189592242241 +/- 0.028990691527724266\n",
      "INFO:root:Scoring (userXcolditem):\n",
      "100%|██████████| 68/68 [00:02<00:00, 32.23it/s]\n",
      "INFO:root:(val)mapk = 0.037711598039908145 +/- 0.02169352393672195\n",
      "INFO:root:(val)auc = 0.6623160243034363 +/- 0.05988228693604469\n",
      "INFO:root:(val)tjurs = 0.3251535892486572 +/- 0.06534572690725327\n",
      "INFO:root:(val)pm = 1.0341157913208008 +/- 0.34373605251312256\n",
      "INFO:root:(val)nm = -0.08451945334672928 +/- 0.06339266896247864\n",
      "INFO:root:Scoring (userXitem):\n",
      "100%|██████████| 50/50 [00:01<00:00, 38.66it/s]\n",
      "INFO:root:(val)mapk = 0.10407692178813477 +/- 0.05632080952578337\n",
      "INFO:root:(val)auc = 0.8190877437591553 +/- 0.03396251052618027\n",
      "INFO:root:(val)tjurs = 0.15948209166526794 +/- 0.021873343735933304\n",
      "INFO:root:(val)pm = 2.603642463684082 +/- 0.26839709281921387\n",
      "INFO:root:(val)nm = -0.01649254746735096 +/- 0.02662534825503826\n",
      "INFO:root:Scoring (userXcolditem):\n",
      "100%|██████████| 68/68 [00:02<00:00, 32.58it/s]\n",
      "INFO:root:(val)mapk = 0.016860679296039766 +/- 0.009478988756632568\n",
      "INFO:root:(val)auc = 0.6678673028945923 +/- 0.06397886574268341\n",
      "INFO:root:(val)tjurs = 0.31587669253349304 +/- 0.06836671382188797\n",
      "INFO:root:(val)pm = 1.1386842727661133 +/- 0.3802606761455536\n",
      "INFO:root:(val)nm = -0.05801169201731682 +/- 0.06845424324274063\n"
     ]
    }
   ],
   "source": [
    "model_warp = TophatModel(tasks=[task_warp])\n",
    "model_warp.fit(N_EPOCHS, callbacks=callbacks, verbose=0)\n",
    "score_hist_warp = pd.DataFrame(val_cb.score_hists)"
   ]
  }
 ],
 "metadata": {
  "kernelspec": {
   "display_name": "Python 3",
   "language": "python",
   "name": "python3"
  },
  "language_info": {
   "codemirror_mode": {
    "name": "ipython",
    "version": 3
   },
   "file_extension": ".py",
   "mimetype": "text/x-python",
   "name": "python",
   "nbconvert_exporter": "python",
   "pygments_lexer": "ipython3",
   "version": "3.6.2"
  }
 },
 "nbformat": 4,
 "nbformat_minor": 2
}
